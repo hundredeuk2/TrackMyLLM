{
 "cells": [
  {
   "cell_type": "code",
   "execution_count": null,
   "id": "1709fd6f",
   "metadata": {},
   "outputs": [],
   "source": [
    "from openai import OpenAI\n",
    "import sys\n",
    "import os\n",
    "sys.path.append(os.path.abspath(\"..\"))\n",
    "from tracker.cost_tracker import cost_tracker\n",
    "\n",
    "model_name = \"gpt-4o-mini\"\n",
    "client = OpenAI()\n",
    "\n",
    "@cost_tracker.track_cost()\n",
    "def generate(model_name, prompt):\n",
    "    completion = client.chat.completions.create(\n",
    "        model = model_name,\n",
    "        max_tokens=8192,\n",
    "        messages=[\n",
    "            {\n",
    "                \"role\":\"system\",\n",
    "                \"content\":\"asd\"\n",
    "            },\n",
    "            {\n",
    "                \"role\":\"user\",\n",
    "                \"content\":prompt\n",
    "            }\n",
    "        ],\n",
    "    )\n",
    "    return completion"
   ]
  },
  {
   "cell_type": "code",
   "execution_count": 5,
   "id": "6d7363ea",
   "metadata": {},
   "outputs": [],
   "source": [
    "a = generate(model_name, \"Hello, world!\")"
   ]
  },
  {
   "cell_type": "code",
   "execution_count": 6,
   "id": "63a6ae7a",
   "metadata": {},
   "outputs": [
    {
     "data": {
      "text/plain": [
       "defaultdict(list, {'gpt-4o-mini': [8.400000000000001e-06]})"
      ]
     },
     "execution_count": 6,
     "metadata": {},
     "output_type": "execute_result"
    }
   ],
   "source": [
    "cost_tracker.standalone_costs"
   ]
  }
 ],
 "metadata": {
  "kernelspec": {
   "display_name": "base",
   "language": "python",
   "name": "python3"
  },
  "language_info": {
   "codemirror_mode": {
    "name": "ipython",
    "version": 3
   },
   "file_extension": ".py",
   "mimetype": "text/x-python",
   "name": "python",
   "nbconvert_exporter": "python",
   "pygments_lexer": "ipython3",
   "version": "3.10.12"
  }
 },
 "nbformat": 4,
 "nbformat_minor": 5
}
